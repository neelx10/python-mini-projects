{
  "nbformat": 4,
  "nbformat_minor": 0,
  "metadata": {
    "colab": {
      "provenance": []
    },
    "kernelspec": {
      "name": "python3",
      "display_name": "Python 3"
    },
    "language_info": {
      "name": "python"
    }
  },
  "cells": [
    {
      "cell_type": "code",
      "execution_count": 1,
      "metadata": {
        "colab": {
          "base_uri": "https://localhost:8080/"
        },
        "id": "7TnpsLHcSSQn",
        "outputId": "89041967-efb8-4a08-c68a-b03a90b220ab"
      },
      "outputs": [
        {
          "output_type": "stream",
          "name": "stdout",
          "text": [
            "Looking in indexes: https://pypi.org/simple, https://us-python.pkg.dev/colab-wheels/public/simple/\n",
            "Requirement already satisfied: opencv-python in /usr/local/lib/python3.10/dist-packages (4.7.0.72)\n",
            "Requirement already satisfied: numpy>=1.21.2 in /usr/local/lib/python3.10/dist-packages (from opencv-python) (1.22.4)\n"
          ]
        }
      ],
      "source": [
        "pip install opencv-python\n"
      ]
    },
    {
      "cell_type": "code",
      "source": [
        "import cv2\n",
        "import os"
      ],
      "metadata": {
        "id": "H6qyFbNESfJ9"
      },
      "execution_count": 2,
      "outputs": []
    },
    {
      "cell_type": "code",
      "source": [
        "def convert_to_grayscale(image_path, filename):\n",
        "    # Read the image\n",
        "    image = cv2.imread(image_path)\n",
        "\n",
        "    # Convert the image to grayscale\n",
        "    grayscale_image = cv2.cvtColor(image, cv2.COLOR_BGR2GRAY)\n",
        "\n",
        "    # Save the grayscale image\n",
        "    cv2.imwrite(image_path, grayscale_image)\n",
        "\n",
        "    print(f\"Converted {filename} to grayscale\")\n"
      ],
      "metadata": {
        "id": "dX5iV1uFSe-8"
      },
      "execution_count": 6,
      "outputs": []
    },
    {
      "cell_type": "code",
      "source": [
        "directory = \"/content/images\""
      ],
      "metadata": {
        "id": "4QXtjU9lSezd"
      },
      "execution_count": 7,
      "outputs": []
    },
    {
      "cell_type": "code",
      "source": [
        "for filename in os.listdir(directory):\n",
        "    if filename.endswith(\".jpeg\") or filename.endswith(\".png\"):\n",
        "        image_path = os.path.join(directory, filename)\n",
        "        convert_to_grayscale(image_path, filename)"
      ],
      "metadata": {
        "id": "1YsjdG9hSpVr",
        "colab": {
          "base_uri": "https://localhost:8080/"
        },
        "outputId": "d982916e-74d0-42f4-b306-9ee1ca7953b9"
      },
      "execution_count": 8,
      "outputs": [
        {
          "output_type": "stream",
          "name": "stdout",
          "text": [
            "Converted download (5).jpeg to grayscale\n",
            "Converted download.jpeg to grayscale\n",
            "Converted download (2).jpeg to grayscale\n",
            "Converted download (6).jpeg to grayscale\n",
            "Converted download (4).jpeg to grayscale\n",
            "Converted download (3).jpeg to grayscale\n",
            "Converted download (1).jpeg to grayscale\n"
          ]
        }
      ]
    }
  ]
}